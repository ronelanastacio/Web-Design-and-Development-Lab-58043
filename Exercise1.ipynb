{
  "nbformat": 4,
  "nbformat_minor": 0,
  "metadata": {
    "colab": {
      "name": "Exercise1.ipynb",
      "provenance": [],
      "authorship_tag": "ABX9TyOfUjfuyk5tC9SiQzQn4HGG",
      "include_colab_link": true
    },
    "kernelspec": {
      "name": "python3",
      "display_name": "Python 3"
    },
    "language_info": {
      "name": "python"
    }
  },
  "cells": [
    {
      "cell_type": "markdown",
      "metadata": {
        "id": "view-in-github",
        "colab_type": "text"
      },
      "source": [
        "<a href=\"https://colab.research.google.com/github/ronelanastacio/Web-Design-and-Development-Lab-58043/blob/main/Exercise1.ipynb\" target=\"_parent\"><img src=\"https://colab.research.google.com/assets/colab-badge.svg\" alt=\"Open In Colab\"/></a>"
      ]
    },
    {
      "cell_type": "code",
      "execution_count": 3,
      "metadata": {
        "colab": {
          "base_uri": "https://localhost:8080/"
        },
        "id": "vrWRzHm4yrcH",
        "outputId": "644e5b75-b6fd-4e14-9995-d93bdab9522e"
      },
      "outputs": [
        {
          "output_type": "stream",
          "name": "stdout",
          "text": [
            "Please Enter the radius of a circle: 10\n",
            "Area of a circle = 314.00\n"
          ]
        }
      ],
      "source": [
        "# Python Program to find Area Of Circle using Radius\n",
        "\n",
        "π = 3.14 #value of pi\n",
        "\n",
        "radius = float(input(\"Please Enter the radius of a circle: \")) #value of radius\n",
        "\n",
        "area = π * radius * radius #formula for area of circle\n",
        "\n",
        "print(\"Area of a circle = %.2f\" %area)"
      ]
    }
  ]
}